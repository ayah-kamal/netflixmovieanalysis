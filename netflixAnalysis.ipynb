{
 "cells": [
  {
   "cell_type": "markdown",
   "metadata": {},
   "source": [
    "# Netflix Analysis, EDA, and Visualization \n",
    "---\n",
    "## Background\n",
    "> Netflix is a subscription-based streaming service that allows our members to watch TV shows and movies without commercials on an internet-connected device. [[Reference]](https://help.netflix.com/en/node/412#:~:text=Netflix%20is%20a%20subscription%2Dbased,on%20an%20internet%2Dconnected%20device.&text=If%20you're%20already%20a,visit%20Getting%20started%20with%20Netflix.)\n",
    "\n",
    "In this analysis, the dataset used contains the information of all the movies and TV shows on Netflix. The dataset will be used to answer the research questions:\n",
    " - What are the top movies from each genre?\n",
    " - Which country produces the most TV shows?\n",
    " - What's the best month to release content?\n",
    "\n",
    "## About the Data\n",
    "The data represents the current catalog of Movies and TV shows on Netflix as of September 25, 2021. The dataset was sourced from Kaggle: [here](https://www.kaggle.com/shivamb/netflix-shows).\n",
    "The following is a brief description of each variable (there are a total of 12 columns):\n",
    "- `show_id`: Unique ID for every Movie / Tv Show\n",
    "- `type`: Identifier - A Movie or TV Show\n",
    "- `title`: Title of the Movie / Tv Show\n",
    "- `director`: Director of the Movie\n",
    "- `cast`: Actors involved in the movie / show\n",
    "- `country`: Country where the movie / show was produced\n",
    "- `date_added`: Date it was added on Netflix\n",
    "- `release_year`: Actual Release year of the move / show\n",
    "- `rating`: TV Rating of the movie / show\n",
    "- `duration`: Total Duration - in minutes or number of seasons\n",
    "- `listed_in`: Genre\n",
    "- `description`: The summary description\n",
    "\n",
    " "
   ]
  }
 ],
 "metadata": {
  "language_info": {
   "name": "python"
  },
  "orig_nbformat": 4
 },
 "nbformat": 4,
 "nbformat_minor": 2
}
